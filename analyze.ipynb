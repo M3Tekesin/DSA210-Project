import pandas as pd
import matplotlib.pyplot as plt
import seaborn as sns
import numpy as np
from scipy.stats import pearsonr

# 1. Load Data 
file_path = "complete.csv"
data = pd.read_csv("complete.csv", on_bad_lines="skip") # there are some bad lines in the csv file so I skip them

# 2. Data Cleaning
data = data.dropna()  # drop rows with missing values
data = data.drop_duplicates()  # drop duplicate rows 
data = data.reset_index(drop=True)  # reset index after dropping rows
data_us = data[data['country'].str.lower() == 'us'] # drop rows not from the US
data_us = data_us.dropna(subset=['state']) # drop rows with missing state info just in case
# I dropped the rows with missing values and duplicates, because I want to keep the data clean and accurate for analysis.
# Also, I dropped the rows not from the US and the rows with missing state info, because I want to focus on the US data and make sure I have complete information for each state.


print(len(data_us))   # Number of rows BEFORE (check)

# date transformation
data_us['datetime'] = pd.to_datetime(data_us['datetime'], errors='coerce')
data_us['month'] = data_us['datetime'].dt.month.astype('Int64')
data_us['day'] = data_us['datetime'].dt.day.astype('Int64')
data_us['year'] = data_us['datetime'].dt.year.astype('Int64')

print(len(data_us))   # Number of rows AFTER  (check)

year_counts = data_us['year'].value_counts().sort_index()
year_counts.plot(kind='bar', figsize=(12, 5))
plt.xlabel('Year')
plt.ylabel('Number of Sightings')
plt.title('UFO Sightings per Year (US Only)')
plt.tight_layout()
plt.show()
